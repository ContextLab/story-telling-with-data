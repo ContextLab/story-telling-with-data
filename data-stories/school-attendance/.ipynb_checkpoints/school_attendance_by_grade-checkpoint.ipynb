{
 "cells": [
  {
   "cell_type": "code",
   "execution_count": 11,
   "metadata": {
    "collapsed": true
   },
   "outputs": [],
   "source": [
    "import pandas as pd\n",
    "import numpy as np\n",
    "import statsmodels.formula.api as smf\n",
    "import seaborn as sns\n",
    "import hypertools as hyp\n",
    "%matplotlib notebook"
   ]
  },
  {
   "cell_type": "code",
   "execution_count": 21,
   "metadata": {
    "collapsed": true
   },
   "outputs": [],
   "source": [
    "#load in the data\n",
    "\n",
    "fname = 'At Risk Students For Dartmouth.xlsx'\n",
    "sheet1 = 'Year 16-17'\n",
    "sheet2 = 'Year 17-18 9.25.17'\n",
    "columns = ('id', 'grade', 'age', 'school', 'sex', 'homeless', 'disadvantaged', 'specialneeds',\n",
    "           'excused1', 'unexcused1', 'tardy1',\n",
    "           'excused2', 'unexcused2', 'tardy2',\n",
    "           'excused3', 'unexcused3', 'tardy3',\n",
    "           'excused4', 'unexcused4', 'tardy4')\n",
    "y1_data = pd.read_excel(fname, sheetname=sheet1, skiprows=[0], names=columns)\n",
    "y2_data = pd.read_excel(fname, sheetname=sheet2, skiprows=[0], names=columns)\n",
    "\n",
    "#use student IDs as the index\n",
    "y1_data.set_index('id', inplace=True)\n",
    "y2_data.set_index('id', inplace=True)"
   ]
  },
  {
   "cell_type": "code",
   "execution_count": 22,
   "metadata": {},
   "outputs": [
    {
     "data": {
      "text/plain": [
       "array([nan, 504, 'IEP'], dtype=object)"
      ]
     },
     "execution_count": 22,
     "metadata": {},
     "output_type": "execute_result"
    }
   ],
   "source": [
    "pd.unique(y1_data['specialneeds'])"
   ]
  },
  {
   "cell_type": "code",
   "execution_count": 23,
   "metadata": {
    "collapsed": true
   },
   "outputs": [],
   "source": [
    "#do some data cleaning\n",
    "\n",
    "#in \"disadvantaged\" column, replace \"YES\" with 1 and NaN with 0\n",
    "y1_data['disadvantaged'] = y1_data['disadvantaged'].map({np.nan: 0, 'YES': 1})\n",
    "y2_data['disadvantaged'] = y2_data['disadvantaged'].map({np.nan: 0, 'YES': 1})\n",
    "\n",
    "#in \"specialneeds\" column, \n",
    "y1_data['specialneeds'] = y1_data['specialneeds'].map({np.nan: 0, 504: '504', 'IEP': 'IEP'})\n",
    "y2_data['specialneeds'] = y2_data['specialneeds'].map({np.nan: 0, 504: '504', 'IEP': 'IEP'})\n",
    "\n",
    "#replace '---' with 0 (Fourth marking period columns)\n",
    "y1_data.replace('---', 0, inplace=True)\n",
    "y2_data.replace('---', 0, inplace=True)"
   ]
  },
  {
   "cell_type": "code",
   "execution_count": 24,
   "metadata": {
    "scrolled": false
   },
   "outputs": [
    {
     "data": {
      "text/html": [
       "<div>\n",
       "<style>\n",
       "    .dataframe thead tr:only-child th {\n",
       "        text-align: right;\n",
       "    }\n",
       "\n",
       "    .dataframe thead th {\n",
       "        text-align: left;\n",
       "    }\n",
       "\n",
       "    .dataframe tbody tr th {\n",
       "        vertical-align: top;\n",
       "    }\n",
       "</style>\n",
       "<table border=\"1\" class=\"dataframe\">\n",
       "  <thead>\n",
       "    <tr style=\"text-align: right;\">\n",
       "      <th></th>\n",
       "      <th>grade</th>\n",
       "      <th>age</th>\n",
       "      <th>school</th>\n",
       "      <th>sex</th>\n",
       "      <th>homeless</th>\n",
       "      <th>disadvantaged</th>\n",
       "      <th>specialneeds</th>\n",
       "      <th>excused1</th>\n",
       "      <th>unexcused1</th>\n",
       "      <th>tardy1</th>\n",
       "      <th>excused2</th>\n",
       "      <th>unexcused2</th>\n",
       "      <th>tardy2</th>\n",
       "      <th>excused3</th>\n",
       "      <th>unexcused3</th>\n",
       "      <th>tardy3</th>\n",
       "      <th>excused4</th>\n",
       "      <th>unexcused4</th>\n",
       "      <th>tardy4</th>\n",
       "    </tr>\n",
       "    <tr>\n",
       "      <th>id</th>\n",
       "      <th></th>\n",
       "      <th></th>\n",
       "      <th></th>\n",
       "      <th></th>\n",
       "      <th></th>\n",
       "      <th></th>\n",
       "      <th></th>\n",
       "      <th></th>\n",
       "      <th></th>\n",
       "      <th></th>\n",
       "      <th></th>\n",
       "      <th></th>\n",
       "      <th></th>\n",
       "      <th></th>\n",
       "      <th></th>\n",
       "      <th></th>\n",
       "      <th></th>\n",
       "      <th></th>\n",
       "      <th></th>\n",
       "    </tr>\n",
       "  </thead>\n",
       "  <tbody>\n",
       "    <tr>\n",
       "      <th>300053</th>\n",
       "      <td>10</td>\n",
       "      <td>16</td>\n",
       "      <td>Hartford High School/HACTC</td>\n",
       "      <td>F</td>\n",
       "      <td>N</td>\n",
       "      <td>1</td>\n",
       "      <td>0</td>\n",
       "      <td>22</td>\n",
       "      <td>0</td>\n",
       "      <td>0</td>\n",
       "      <td>0</td>\n",
       "      <td>0</td>\n",
       "      <td>0</td>\n",
       "      <td>0</td>\n",
       "      <td>0</td>\n",
       "      <td>1</td>\n",
       "      <td>2</td>\n",
       "      <td>2</td>\n",
       "      <td>0</td>\n",
       "    </tr>\n",
       "    <tr>\n",
       "      <th>300339</th>\n",
       "      <td>12</td>\n",
       "      <td>18</td>\n",
       "      <td>Hartford High School/HACTC</td>\n",
       "      <td>F</td>\n",
       "      <td>N</td>\n",
       "      <td>0</td>\n",
       "      <td>0</td>\n",
       "      <td>4</td>\n",
       "      <td>2</td>\n",
       "      <td>4</td>\n",
       "      <td>13</td>\n",
       "      <td>9</td>\n",
       "      <td>6</td>\n",
       "      <td>27</td>\n",
       "      <td>15</td>\n",
       "      <td>5</td>\n",
       "      <td>36</td>\n",
       "      <td>15</td>\n",
       "      <td>7</td>\n",
       "    </tr>\n",
       "    <tr>\n",
       "      <th>300340</th>\n",
       "      <td>11</td>\n",
       "      <td>17</td>\n",
       "      <td>Hartford High School/HACTC</td>\n",
       "      <td>M</td>\n",
       "      <td>N</td>\n",
       "      <td>0</td>\n",
       "      <td>0</td>\n",
       "      <td>1</td>\n",
       "      <td>0</td>\n",
       "      <td>0</td>\n",
       "      <td>5</td>\n",
       "      <td>1</td>\n",
       "      <td>1</td>\n",
       "      <td>3</td>\n",
       "      <td>0</td>\n",
       "      <td>5</td>\n",
       "      <td>24</td>\n",
       "      <td>0</td>\n",
       "      <td>1</td>\n",
       "    </tr>\n",
       "    <tr>\n",
       "      <th>300344</th>\n",
       "      <td>9</td>\n",
       "      <td>15</td>\n",
       "      <td>Hartford High School/HACTC</td>\n",
       "      <td>M</td>\n",
       "      <td>N</td>\n",
       "      <td>0</td>\n",
       "      <td>0</td>\n",
       "      <td>0</td>\n",
       "      <td>0</td>\n",
       "      <td>0</td>\n",
       "      <td>15</td>\n",
       "      <td>0</td>\n",
       "      <td>0</td>\n",
       "      <td>0</td>\n",
       "      <td>1</td>\n",
       "      <td>0</td>\n",
       "      <td>3</td>\n",
       "      <td>0</td>\n",
       "      <td>0</td>\n",
       "    </tr>\n",
       "    <tr>\n",
       "      <th>300345</th>\n",
       "      <td>8</td>\n",
       "      <td>15</td>\n",
       "      <td>Hartford Memorial Middle School</td>\n",
       "      <td>M</td>\n",
       "      <td>N</td>\n",
       "      <td>0</td>\n",
       "      <td>504</td>\n",
       "      <td>0</td>\n",
       "      <td>0</td>\n",
       "      <td>0</td>\n",
       "      <td>3</td>\n",
       "      <td>0</td>\n",
       "      <td>1</td>\n",
       "      <td>4</td>\n",
       "      <td>0</td>\n",
       "      <td>1</td>\n",
       "      <td>5</td>\n",
       "      <td>0</td>\n",
       "      <td>3</td>\n",
       "    </tr>\n",
       "  </tbody>\n",
       "</table>\n",
       "</div>"
      ],
      "text/plain": [
       "       grade  age                           school sex homeless  \\\n",
       "id                                                                \n",
       "300053    10   16       Hartford High School/HACTC   F        N   \n",
       "300339    12   18       Hartford High School/HACTC   F        N   \n",
       "300340    11   17       Hartford High School/HACTC   M        N   \n",
       "300344     9   15       Hartford High School/HACTC   M        N   \n",
       "300345     8   15  Hartford Memorial Middle School   M        N   \n",
       "\n",
       "        disadvantaged specialneeds  excused1  unexcused1  tardy1  excused2  \\\n",
       "id                                                                           \n",
       "300053              1            0        22           0       0         0   \n",
       "300339              0            0         4           2       4        13   \n",
       "300340              0            0         1           0       0         5   \n",
       "300344              0            0         0           0       0        15   \n",
       "300345              0          504         0           0       0         3   \n",
       "\n",
       "        unexcused2  tardy2  excused3  unexcused3  tardy3  excused4  \\\n",
       "id                                                                   \n",
       "300053           0       0         0           0       1         2   \n",
       "300339           9       6        27          15       5        36   \n",
       "300340           1       1         3           0       5        24   \n",
       "300344           0       0         0           1       0         3   \n",
       "300345           0       1         4           0       1         5   \n",
       "\n",
       "        unexcused4  tardy4  \n",
       "id                          \n",
       "300053           2       0  \n",
       "300339          15       7  \n",
       "300340           0       1  \n",
       "300344           0       0  \n",
       "300345           0       3  "
      ]
     },
     "execution_count": 24,
     "metadata": {},
     "output_type": "execute_result"
    }
   ],
   "source": [
    "y1_data.head()"
   ]
  },
  {
   "cell_type": "code",
   "execution_count": 29,
   "metadata": {
    "scrolled": true
   },
   "outputs": [
    {
     "ename": "SyntaxError",
     "evalue": "invalid character in identifier (<ipython-input-29-81943d5b7a82>, line 2)",
     "output_type": "error",
     "traceback": [
      "\u001b[0;36m  File \u001b[0;32m\"<ipython-input-29-81943d5b7a82>\"\u001b[0;36m, line \u001b[0;32m2\u001b[0m\n\u001b[0;31m    y1_data[‘disadvantaged’] = y1_data[‘disadvantaged’].map({np.nan: 0, ‘YES’: 1})\u001b[0m\n\u001b[0m                          ^\u001b[0m\n\u001b[0;31mSyntaxError\u001b[0m\u001b[0;31m:\u001b[0m invalid character in identifier\n"
     ]
    }
   ],
   "source": [
    "#in “disadvantaged” column, replace “YES” with 1 and NaN with 0\n",
    "y1_data[‘disadvantaged’] = y1_data[‘disadvantaged’].map({np.nan: 0, ‘YES’: 1})\n",
    "y2_data[‘disadvantaged’] = y2_data[‘disadvantaged’].map({np.nan: 0, ‘YES’: 1})"
   ]
  },
  {
   "cell_type": "code",
   "execution_count": 19,
   "metadata": {},
   "outputs": [
    {
     "ename": "SyntaxError",
     "evalue": "invalid character in identifier (<ipython-input-19-9fd14055b022>, line 2)",
     "output_type": "error",
     "traceback": [
      "\u001b[0;36m  File \u001b[0;32m\"<ipython-input-19-9fd14055b022>\"\u001b[0;36m, line \u001b[0;32m2\u001b[0m\n\u001b[0;31m    y1_data[‘specialneeds’] = y1_data[‘specialneeds’].map({np.nan: 0, 504: ‘504’, ‘IEP’: ‘IEP’})\u001b[0m\n\u001b[0m                         ^\u001b[0m\n\u001b[0;31mSyntaxError\u001b[0m\u001b[0;31m:\u001b[0m invalid character in identifier\n"
     ]
    }
   ],
   "source": [
    "#in “specialneeds” column,\n",
    "y1_data[‘specialneeds’] = y1_data[‘specialneeds’].map({np.nan: 0, 504: ‘504’, ‘IEP’: ‘IEP’})\n",
    "y2_data[‘specialneeds’] = y2_data[‘specialneeds’].map({np.nan: 0, 504: ‘504’, ‘IEP’: ‘IEP’})"
   ]
  },
  {
   "cell_type": "code",
   "execution_count": 30,
   "metadata": {},
   "outputs": [
    {
     "ename": "SyntaxError",
     "evalue": "invalid character in identifier (<ipython-input-30-9f7ace29abe0>, line 2)",
     "output_type": "error",
     "traceback": [
      "\u001b[0;36m  File \u001b[0;32m\"<ipython-input-30-9f7ace29abe0>\"\u001b[0;36m, line \u001b[0;32m2\u001b[0m\n\u001b[0;31m    y1_data.replace(‘---‘, 0, inplace=True)\u001b[0m\n\u001b[0m                    ^\u001b[0m\n\u001b[0;31mSyntaxError\u001b[0m\u001b[0;31m:\u001b[0m invalid character in identifier\n"
     ]
    }
   ],
   "source": [
    "#replace ‘---’ with 0 (Fourth marking period columns)\n",
    "y1_data.replace(‘---‘, 0, inplace=True)\n",
    "y2_data.replace(‘---‘, 0, inplace=True)"
   ]
  },
  {
   "cell_type": "code",
   "execution_count": 31,
   "metadata": {},
   "outputs": [
    {
     "ename": "SyntaxError",
     "evalue": "invalid character in identifier (<ipython-input-31-d7c7780e39ec>, line 2)",
     "output_type": "error",
     "traceback": [
      "\u001b[0;36m  File \u001b[0;32m\"<ipython-input-31-d7c7780e39ec>\"\u001b[0;36m, line \u001b[0;32m2\u001b[0m\n\u001b[0;31m    y1_data_sex = pd.get_dummies(y1_data[‘sex’])\u001b[0m\n\u001b[0m                                             ^\u001b[0m\n\u001b[0;31mSyntaxError\u001b[0m\u001b[0;31m:\u001b[0m invalid character in identifier\n"
     ]
    }
   ],
   "source": [
    "#Create dummy variables for male and female, create new dataframe\n",
    "y1_data_sex = pd.get_dummies(y1_data[‘sex’])\n",
    "y1_data_new = y1_data.join(y1_data_sex)\n",
    "y1_data_new"
   ]
  },
  {
   "cell_type": "code",
   "execution_count": 32,
   "metadata": {},
   "outputs": [
    {
     "ename": "SyntaxError",
     "evalue": "invalid character in identifier (<ipython-input-32-2877123bf099>, line 2)",
     "output_type": "error",
     "traceback": [
      "\u001b[0;36m  File \u001b[0;32m\"<ipython-input-32-2877123bf099>\"\u001b[0;36m, line \u001b[0;32m2\u001b[0m\n\u001b[0;31m    y1_data_new.loc[list(map(lambda x: x not in [‘K’, ‘AW’, ‘PA’, ‘PD’, ‘PP’], y1_data_new[‘grade’]))]\u001b[0m\n\u001b[0m                                                   ^\u001b[0m\n\u001b[0;31mSyntaxError\u001b[0m\u001b[0;31m:\u001b[0m invalid character in identifier\n"
     ]
    }
   ],
   "source": [
    "#Drop all strings in grade column\n",
    "y1_data_new.loc[list(map(lambda x: x not in [‘K’, ‘AW’, ‘PA’, ‘PD’, ‘PP’], y1_data_new[‘grade’]))]"
   ]
  },
  {
   "cell_type": "code",
   "execution_count": 33,
   "metadata": {},
   "outputs": [
    {
     "ename": "SyntaxError",
     "evalue": "invalid character in identifier (<ipython-input-33-d770ffe05f2d>, line 2)",
     "output_type": "error",
     "traceback": [
      "\u001b[0;36m  File \u001b[0;32m\"<ipython-input-33-d770ffe05f2d>\"\u001b[0;36m, line \u001b[0;32m2\u001b[0m\n\u001b[0;31m    y1_data_new[‘excused’]=y1_data_new[‘excused1’] + y1_data_new[‘excused2’] + y1_data_new[‘excused3’]\u001b[0m\n\u001b[0m                        ^\u001b[0m\n\u001b[0;31mSyntaxError\u001b[0m\u001b[0;31m:\u001b[0m invalid character in identifier\n"
     ]
    }
   ],
   "source": [
    "#Create new year-long columns\n",
    "y1_data_new[‘excused’]=y1_data_new[‘excused1’] + y1_data_new[‘excused2’] + y1_data_new[‘excused3’]\n",
    "y1_data_new[‘unexcused’]=y1_data_new[‘unexcused1’] + y1_data_new[‘unexcused2’] + y1_data_new[‘unexcused3’]\n",
    "y1_data_new[‘tardy’]=y1_data_new[‘tardy1’] + y1_data_new[‘tardy2’] + y1_data_new[‘tardy3’]"
   ]
  },
  {
   "cell_type": "code",
   "execution_count": null,
   "metadata": {
    "collapsed": true
   },
   "outputs": [],
   "source": []
  }
 ],
 "metadata": {
  "kernelspec": {
   "display_name": "Python 3",
   "language": "python",
   "name": "python3"
  },
  "language_info": {
   "codemirror_mode": {
    "name": "ipython",
    "version": 3
   },
   "file_extension": ".py",
   "mimetype": "text/x-python",
   "name": "python",
   "nbconvert_exporter": "python",
   "pygments_lexer": "ipython3",
   "version": "3.6.1"
  }
 },
 "nbformat": 4,
 "nbformat_minor": 2
}
